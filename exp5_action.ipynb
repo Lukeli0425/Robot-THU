{
 "cells": [
  {
   "cell_type": "code",
   "execution_count": null,
   "metadata": {},
   "outputs": [],
   "source": []
  },
  {
   "cell_type": "code",
   "execution_count": null,
   "metadata": {},
   "outputs": [],
   "source": [
    "# 获得下一个点的二维坐标，并移动\n",
    "def move_to_next(next_loction_X, next_loction_Y):\n",
    "    Y,X,direction = XY_Robot()\n",
    "    # 转向\n",
    "    move_dir = [next_loction_X-X, next_loction_Y-Y]\n",
    "    norm_move_dir = move_dir / np.linalg.norm(move_dir)\n",
    "    rotate_to_balance(norm_move_dir)\n",
    "    # 向前走！\n",
    "    run_action('Forwalk02')\n",
    "    wait_req()"
   ]
  }
 ],
 "metadata": {
  "kernelspec": {
   "display_name": "Python 3.8.2 64-bit",
   "language": "python",
   "name": "python3"
  },
  "language_info": {
   "name": "python",
   "version": "3.8.2"
  },
  "orig_nbformat": 4,
  "vscode": {
   "interpreter": {
    "hash": "082e9a3bcad0a290d0001e938aa60b99250c6c2ef33a923c00b70f9826caf4b7"
   }
  }
 },
 "nbformat": 4,
 "nbformat_minor": 2
}
