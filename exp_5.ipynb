{
 "cells": [
  {
   "cell_type": "markdown",
   "metadata": {},
   "source": [
    "# 导入所需的库"
   ]
  },
  {
   "cell_type": "code",
   "execution_count": 1,
   "metadata": {},
   "outputs": [
    {
     "data": {
      "application/javascript": [
       "\n",
       "require(['notebook/js/codecell'], function(codecell) {\n",
       "  codecell.CodeCell.options_default.highlight_modes[\n",
       "      'magic_text/x-csrc'] = {'reg':[/^%%microblaze/]};\n",
       "  Jupyter.notebook.events.one('kernel_ready.Kernel', function(){\n",
       "      Jupyter.notebook.get_cells().map(function(cell){\n",
       "          if (cell.cell_type == 'code'){ cell.auto_highlight(); } }) ;\n",
       "  });\n",
       "});\n"
      ]
     },
     "metadata": {},
     "output_type": "display_data"
    }
   ],
   "source": [
    "from pynq import Overlay\n",
    "from pynq import Xlnk\n",
    "import pynq.lib.dma\n",
    "import numpy as np\n",
    "import matplotlib.pyplot as plt\n",
    "from PIL import Image"
   ]
  },
  {
   "cell_type": "markdown",
   "metadata": {},
   "source": [
    "# 手动归一化（无法在PYNQ里运行torchvision.transform）"
   ]
  },
  {
   "cell_type": "code",
   "execution_count": 2,
   "metadata": {},
   "outputs": [],
   "source": [
    "def my_transform(img):\n",
    "    img = img.resize((28,28))\n",
    "    im_data = np.array(img).astype(np.float32)\n",
    "    im_data = im_data.transpose(2,0,1)\n",
    "    for i in range(im_data.shape[0]):\n",
    "        im_data[i,:,:] = (im_data[i,:,:] - np.mean(im_data[i,:,:])) / np.std(im_data[i,:,:])\n",
    "    return im_data"
   ]
  },
  {
   "cell_type": "markdown",
   "metadata": {},
   "source": [
    "# 载入Overlay，定义dma的输入输出通道"
   ]
  },
  {
   "cell_type": "code",
   "execution_count": 3,
   "metadata": {},
   "outputs": [],
   "source": [
    "overlay = Overlay('overlay/cnn_new.bit')\n",
    "xlnk = Xlnk()\n",
    "x = xlnk.cma_array(shape=(3,28,28), dtype=np.float32)\n",
    "y = xlnk.cma_array(shape=(6), dtype=np.float32)\n",
    "\n",
    "input_ch = overlay.axi_dma_0.sendchannel\n",
    "output_ch = overlay.axi_dma_0.recvchannel"
   ]
  },
  {
   "cell_type": "markdown",
   "metadata": {},
   "source": [
    "# 载入图片，实际测试时应为摄像头拍到的图片"
   ]
  },
  {
   "cell_type": "code",
   "execution_count": 4,
   "metadata": {},
   "outputs": [
    {
     "data": {
      "image/png": "[encoded data removed]",
      "text/plain": [
       "<matplotlib.figure.Figure at 0x7f9a37d048>"
      ]
     },
     "metadata": {},
     "output_type": "display_data"
    }
   ],
   "source": [
    "img = Image.open('dataset_flower/class3/5.jpg')\n",
    "plt.imshow(img)\n",
    "plt.show()\n",
    "img_data = my_transform(img)\n",
    "for i in range(3):\n",
    "    for j in range(28):\n",
    "        for k in range(28):\n",
    "            x[i][j][k] = img_data[i][j][k]"
   ]
  },
  {
   "cell_type": "markdown",
   "metadata": {},
   "source": [
    "# 得到输出"
   ]
  },
  {
   "cell_type": "code",
   "execution_count": 5,
   "metadata": {},
   "outputs": [
    {
     "name": "stdout",
     "output_type": "stream",
     "text": [
      "y [ -8.97259045  -3.98325133  -4.07571602 -11.80711746  -6.12692976\n",
      "  -7.52348709]\n",
      "pred class:  1\n"
     ]
    }
   ],
   "source": [
    "input_ch.transfer(x)\n",
    "output_ch.transfer(y)\n",
    "output_ch.wait()\n",
    "print('y', y)\n",
    "print('pred class: ', np.argmax(y))"
   ]
  },
  {
   "cell_type": "code",
   "execution_count": 6,
   "metadata": {},
   "outputs": [],
   "source": [
    "def test(class_name,pic_id):\n",
    "    \n",
    "    overlay = Overlay('overlay/cnn_new.bit')\n",
    "    xlnk = Xlnk()\n",
    "    x = xlnk.cma_array(shape=(3,28,28), dtype=np.float32)\n",
    "    y = xlnk.cma_array(shape=(6), dtype=np.float32)\n",
    "\n",
    "    input_ch = overlay.axi_dma_0.sendchannel\n",
    "    output_ch = overlay.axi_dma_0.recvchannel\n",
    "    \n",
    "    img = Image.open('dataset_flower/class%s/%s.jpg'%(class_name+1,pic_id))\n",
    "#     plt.imshow(img)\n",
    "#     plt.show()\n",
    "    img_data = my_transform(img)\n",
    "    for i in range(3):\n",
    "        for j in range(28):\n",
    "            for k in range(28):\n",
    "                x[i][j][k] = img_data[i][j][k]\n",
    "    input_ch.transfer(x)\n",
    "    output_ch.transfer(y)\n",
    "    output_ch.wait()\n",
    "#     print('y', y)\n",
    "    print('real class: ',class_name,' pred class: ', np.argmax(y))\n",
    "    "
   ]
  },
  {
   "cell_type": "code",
   "execution_count": 7,
   "metadata": {},
   "outputs": [
    {
     "name": "stdout",
     "output_type": "stream",
     "text": [
      "real class:  0  pred class:  0\n",
      "real class:  0  pred class:  0\n",
      "real class:  1  pred class:  1\n",
      "real class:  1  pred class:  1\n",
      "real class:  2  pred class:  1\n",
      "real class:  2  pred class:  2\n",
      "real class:  3  pred class:  3\n",
      "real class:  3  pred class:  3\n",
      "real class:  4  pred class:  5\n",
      "real class:  4  pred class:  4\n",
      "real class:  5  pred class:  5\n",
      "real class:  5  pred class:  5\n"
     ]
    }
   ],
   "source": [
    "for i in range(6):\n",
    "    for j in [5,6]:\n",
    "        test(i,j)"
   ]
  },
  {
   "cell_type": "code",
   "execution_count": null,
   "metadata": {},
   "outputs": [],
   "source": []
  }
 ],
 "metadata": {
  "kernelspec": {
   "display_name": "Python 3",
   "language": "python",
   "name": "python3"
  },
  "language_info": {
   "codemirror_mode": {
    "name": "ipython",
    "version": 3
   },
   "file_extension": ".py",
   "mimetype": "text/x-python",
   "name": "python",
   "nbconvert_exporter": "python",
   "pygments_lexer": "ipython3",
   "version": "3.6.5"
  }
 },
 "nbformat": 4,
 "nbformat_minor": 2
}
