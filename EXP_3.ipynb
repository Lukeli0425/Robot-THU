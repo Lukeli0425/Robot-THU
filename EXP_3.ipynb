{
 "cells": [
  {
   "cell_type": "code",
   "execution_count": 6,
   "metadata": {},
   "outputs": [],
   "source": [
    "import sys\n",
    "# !{sys.executable} -m pip install apriltag\n",
    "# !{sys.executable} -m pip install opencv-python\n",
    "import cv2, apriltag"
   ]
  },
  {
   "cell_type": "code",
   "execution_count": 7,
   "metadata": {},
   "outputs": [],
   "source": [
    "import apriltag"
   ]
  },
  {
   "cell_type": "code",
   "execution_count": null,
   "metadata": {},
   "outputs": [],
   "source": [
    "def load_config(r1,rx,ry): \n",
    "    tag_positions = {}\n",
    "    sftx = np.array([rx, 0, 0]) \n",
    "    sfty = np.array([0, ry, 0]) \n",
    "    tag_positions['0'] = np.array([\n",
    "        [0, 0, 0],\n",
    "        [r1, 0, 0],\n",
    "        [r1, r1, 0],\n",
    "        [0, r1, 0],\n",
    "    ])\n",
    "    tag_positions['1'] = tag_positions['0'] + sftx \n",
    "    tag_positions['2'] = tag_positions['1'] + sfty \n",
    "    tag_positions['3'] = tag_positions['0'] + sfty \n",
    "    tag_positions['4'] = tag_positions['0'] + np.array([rx/2, 0,\n",
    "    0])+np.array([0, ry/2, 0])\n",
    "    destination = tag_positions['4'][0, :2] + np.array([r1/2, r1/2])\n",
    "    return tag_positions, destination"
   ]
  },
  {
   "cell_type": "code",
   "execution_count": null,
   "metadata": {},
   "outputs": [],
   "source": [
    "tag_positions, destination = load_config(5.00, 76.5, 74.7)"
   ]
  },
  {
   "cell_type": "code",
   "execution_count": null,
   "metadata": {},
   "outputs": [],
   "source": [
    "# 创建detector对象\n",
    "options = apriltag.DetectorOptions(\n",
    "            families='tag36h11',\n",
    "        )\n",
    "self.detector = apriltag.Detector(options) \n",
    "# 准备图片(在这之前请先调用相机拍照)\n",
    "img = cv2.imread(self.img_path) \n",
    "# 在识别之前先转化为灰度图\n",
    "gray = cv2.cvtColor(img, cv2.COLOR_BGR2GRAY)\n",
    "# 识别:返回一个list，每一个都是tag对象;如果是空，则说明没有识别到\n",
    "tags = self.detect(gray)\n",
    "\n",
    "tag_num = len(tags)\n",
    "for n, tag in enumerate(tags):\n",
    "    # 使用tag.id访问坐标，tag_positions的定义见前面，pos的形状为[4, 3]，分别代表已知的四个 顶角在空间中的x,y,z三个坐标分量\n",
    "    pos = tag_positions[str(tag.id)]\n",
    "    # 四个顶角在图片中的像素位置(形状为[4, 2]，分别代表四个顶角的像素空间坐标) corners = np.array(tag.corners)\n",
    "    # 之后请根据pos, corners或者**其他信息**来实现定位算法;提示:选手在实验中可以重复拍照定位， 也可以控制机器人转头拍照来获得更好的拍摄角度。另外，定位结果是摄像头的位置，请思考摄像头坐标与机 器人坐标之间的关系。"
   ]
  }
 ],
 "metadata": {
  "kernelspec": {
   "display_name": "Python 3",
   "language": "python",
   "name": "python3"
  },
  "language_info": {
   "codemirror_mode": {
    "name": "ipython",
    "version": 3
   },
   "file_extension": ".py",
   "mimetype": "text/x-python",
   "name": "python",
   "nbconvert_exporter": "python",
   "pygments_lexer": "ipython3",
   "version": "3.6.5"
  }
 },
 "nbformat": 4,
 "nbformat_minor": 2
}
