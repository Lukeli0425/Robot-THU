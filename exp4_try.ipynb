{
 "cells": [
  {
   "cell_type": "code",
   "execution_count": 28,
   "metadata": {},
   "outputs": [
    {
     "data": {
      "text/plain": [
       "0"
      ]
     },
     "execution_count": 28,
     "metadata": {},
     "output_type": "execute_result"
    }
   ],
   "source": [
    "import binascii\n",
    "import serial\n",
    "import os\n",
    "\n",
    "os.system('sh ./stop_sys_ttyPS0.sh')"
   ]
  },
  {
   "cell_type": "code",
   "execution_count": 29,
   "metadata": {},
   "outputs": [],
   "source": [
    "def run_action(cmd):\n",
    "    ser = serial.Serial(\"/dev/ttyPS0\", 9600, timeout=5)\n",
    "    cnt_err = 0\n",
    "    while 1:\n",
    "        test_read = ser.read()\n",
    "        print('test_read', test_read)\n",
    "        cnt_err += 1\n",
    "        if test_read== b'\\xa3' or cnt_err == 50:\n",
    "            break\n",
    "    \n",
    "    if cnt_err == 50:\n",
    "        print('can not get REQ')\n",
    "    else:\n",
    "        print('read REQ finished!')\n",
    "        ser.write(cmd2data(cmd))\n",
    "        print('send action ok!')\n",
    "    ser.close()\n",
    "    \n",
    "def crc_calculate(package):\n",
    "    crc = 0\n",
    "    for hex_data in package:\n",
    "\n",
    "        b2 = hex_data.to_bytes(1, byteorder='little')\n",
    "        crc = binascii.crc_hqx(b2, crc)\n",
    "\n",
    "    return [(crc >> 8), (crc & 255)]    # 校验位两位\n",
    "\n",
    "def cmd2data(cmd):\n",
    "    cnt=0\n",
    "    cmd_list=[]\n",
    "    for i in cmd:\n",
    "        cnt+=1\n",
    "        cmd_list+=[ord(i)]\n",
    "    cmd_list=[0xff,0xff]+[(cnt+5)>>8,(cnt+5)&255]+[0x01,(cnt+1)&255,0x03]+cmd_list\n",
    "    cmd_list=cmd_list+crc_calculate(cmd_list)\n",
    "    return cmd_list\n",
    "\n",
    "def wait_req():\n",
    "    ser = serial.Serial(\"/dev/ttyPS0\", 9600, timeout=5)\n",
    "    while 1:\n",
    "        test_read=ser.read()\n",
    "        if test_read== b'\\xa3' :\n",
    "            print('read REQ finished!') \n",
    "            break\n",
    "        "
   ]
  },
  {
   "cell_type": "code",
   "execution_count": 30,
   "metadata": {},
   "outputs": [
    {
     "ename": "SerialException",
     "evalue": "Could not configure port: (5, 'Input/output error')",
     "output_type": "error",
     "traceback": [
      "\u001b[0;31m---------------------------------------------------------------------------\u001b[0m",
      "\u001b[0;31merror\u001b[0m                                     Traceback (most recent call last)",
      "\u001b[0;32m/usr/local/lib/python3.6/dist-packages/serial/serialposix.py\u001b[0m in \u001b[0;36m_reconfigure_port\u001b[0;34m(self, force_update)\u001b[0m\n\u001b[1;32m    322\u001b[0m         \u001b[0;32mtry\u001b[0m\u001b[0;34m:\u001b[0m\u001b[0;34m\u001b[0m\u001b[0m\n\u001b[0;32m--> 323\u001b[0;31m             \u001b[0morig_attr\u001b[0m \u001b[0;34m=\u001b[0m \u001b[0mtermios\u001b[0m\u001b[0;34m.\u001b[0m\u001b[0mtcgetattr\u001b[0m\u001b[0;34m(\u001b[0m\u001b[0mself\u001b[0m\u001b[0;34m.\u001b[0m\u001b[0mfd\u001b[0m\u001b[0;34m)\u001b[0m\u001b[0;34m\u001b[0m\u001b[0m\n\u001b[0m\u001b[1;32m    324\u001b[0m             \u001b[0miflag\u001b[0m\u001b[0;34m,\u001b[0m \u001b[0moflag\u001b[0m\u001b[0;34m,\u001b[0m \u001b[0mcflag\u001b[0m\u001b[0;34m,\u001b[0m \u001b[0mlflag\u001b[0m\u001b[0;34m,\u001b[0m \u001b[0mispeed\u001b[0m\u001b[0;34m,\u001b[0m \u001b[0mospeed\u001b[0m\u001b[0;34m,\u001b[0m \u001b[0mcc\u001b[0m \u001b[0;34m=\u001b[0m \u001b[0morig_attr\u001b[0m\u001b[0;34m\u001b[0m\u001b[0m\n",
      "\u001b[0;31merror\u001b[0m: (5, 'Input/output error')",
      "\nDuring handling of the above exception, another exception occurred:\n",
      "\u001b[0;31mSerialException\u001b[0m                           Traceback (most recent call last)",
      "\u001b[0;32m<ipython-input-30-33d28242cb69>\u001b[0m in \u001b[0;36m<module>\u001b[0;34m()\u001b[0m\n\u001b[0;32m----> 1\u001b[0;31m \u001b[0mrun_action\u001b[0m\u001b[0;34m(\u001b[0m\u001b[0;34m'turn003L'\u001b[0m\u001b[0;34m)\u001b[0m\u001b[0;34m\u001b[0m\u001b[0m\n\u001b[0m\u001b[1;32m      2\u001b[0m \u001b[0mwait_req\u001b[0m\u001b[0;34m(\u001b[0m\u001b[0;34m)\u001b[0m\u001b[0;34m\u001b[0m\u001b[0m\n\u001b[1;32m      3\u001b[0m \u001b[0mrun_action\u001b[0m\u001b[0;34m(\u001b[0m\u001b[0;34m'fastForward04'\u001b[0m\u001b[0;34m)\u001b[0m\u001b[0;34m\u001b[0m\u001b[0m\n\u001b[1;32m      4\u001b[0m \u001b[0mwait_req\u001b[0m\u001b[0;34m(\u001b[0m\u001b[0;34m)\u001b[0m\u001b[0;34m\u001b[0m\u001b[0m\n\u001b[1;32m      5\u001b[0m \u001b[0mrun_action\u001b[0m\u001b[0;34m(\u001b[0m\u001b[0;34m'turn003L'\u001b[0m\u001b[0;34m)\u001b[0m\u001b[0;34m\u001b[0m\u001b[0m\n",
      "\u001b[0;32m<ipython-input-29-f1e23b87a49c>\u001b[0m in \u001b[0;36mrun_action\u001b[0;34m(cmd)\u001b[0m\n\u001b[1;32m      1\u001b[0m \u001b[0;32mdef\u001b[0m \u001b[0mrun_action\u001b[0m\u001b[0;34m(\u001b[0m\u001b[0mcmd\u001b[0m\u001b[0;34m)\u001b[0m\u001b[0;34m:\u001b[0m\u001b[0;34m\u001b[0m\u001b[0m\n\u001b[0;32m----> 2\u001b[0;31m     \u001b[0mser\u001b[0m \u001b[0;34m=\u001b[0m \u001b[0mserial\u001b[0m\u001b[0;34m.\u001b[0m\u001b[0mSerial\u001b[0m\u001b[0;34m(\u001b[0m\u001b[0;34m\"/dev/ttyPS0\"\u001b[0m\u001b[0;34m,\u001b[0m \u001b[0;36m9600\u001b[0m\u001b[0;34m,\u001b[0m \u001b[0mtimeout\u001b[0m\u001b[0;34m=\u001b[0m\u001b[0;36m5\u001b[0m\u001b[0;34m)\u001b[0m\u001b[0;34m\u001b[0m\u001b[0m\n\u001b[0m\u001b[1;32m      3\u001b[0m     \u001b[0mcnt_err\u001b[0m \u001b[0;34m=\u001b[0m \u001b[0;36m0\u001b[0m\u001b[0;34m\u001b[0m\u001b[0m\n\u001b[1;32m      4\u001b[0m     \u001b[0;32mwhile\u001b[0m \u001b[0;36m1\u001b[0m\u001b[0;34m:\u001b[0m\u001b[0;34m\u001b[0m\u001b[0m\n\u001b[1;32m      5\u001b[0m         \u001b[0mtest_read\u001b[0m \u001b[0;34m=\u001b[0m \u001b[0mser\u001b[0m\u001b[0;34m.\u001b[0m\u001b[0mread\u001b[0m\u001b[0;34m(\u001b[0m\u001b[0;34m)\u001b[0m\u001b[0;34m\u001b[0m\u001b[0m\n",
      "\u001b[0;32m/usr/local/lib/python3.6/dist-packages/serial/serialutil.py\u001b[0m in \u001b[0;36m__init__\u001b[0;34m(self, port, baudrate, bytesize, parity, stopbits, timeout, xonxoff, rtscts, write_timeout, dsrdtr, inter_byte_timeout, exclusive, **kwargs)\u001b[0m\n\u001b[1;32m    238\u001b[0m \u001b[0;34m\u001b[0m\u001b[0m\n\u001b[1;32m    239\u001b[0m         \u001b[0;32mif\u001b[0m \u001b[0mport\u001b[0m \u001b[0;32mis\u001b[0m \u001b[0;32mnot\u001b[0m \u001b[0;32mNone\u001b[0m\u001b[0;34m:\u001b[0m\u001b[0;34m\u001b[0m\u001b[0m\n\u001b[0;32m--> 240\u001b[0;31m             \u001b[0mself\u001b[0m\u001b[0;34m.\u001b[0m\u001b[0mopen\u001b[0m\u001b[0;34m(\u001b[0m\u001b[0;34m)\u001b[0m\u001b[0;34m\u001b[0m\u001b[0m\n\u001b[0m\u001b[1;32m    241\u001b[0m \u001b[0;34m\u001b[0m\u001b[0m\n\u001b[1;32m    242\u001b[0m     \u001b[0;31m#  -  -  -  -  -  -  -  -  -  -  -  -  -  -  -  -  -  -  -  -  -  -  -  -\u001b[0m\u001b[0;34m\u001b[0m\u001b[0;34m\u001b[0m\u001b[0m\n",
      "\u001b[0;32m/usr/local/lib/python3.6/dist-packages/serial/serialposix.py\u001b[0m in \u001b[0;36mopen\u001b[0;34m(self)\u001b[0m\n\u001b[1;32m    270\u001b[0m \u001b[0;34m\u001b[0m\u001b[0m\n\u001b[1;32m    271\u001b[0m         \u001b[0;32mtry\u001b[0m\u001b[0;34m:\u001b[0m\u001b[0;34m\u001b[0m\u001b[0m\n\u001b[0;32m--> 272\u001b[0;31m             \u001b[0mself\u001b[0m\u001b[0;34m.\u001b[0m\u001b[0m_reconfigure_port\u001b[0m\u001b[0;34m(\u001b[0m\u001b[0mforce_update\u001b[0m\u001b[0;34m=\u001b[0m\u001b[0;32mTrue\u001b[0m\u001b[0;34m)\u001b[0m\u001b[0;34m\u001b[0m\u001b[0m\n\u001b[0m\u001b[1;32m    273\u001b[0m         \u001b[0;32mexcept\u001b[0m\u001b[0;34m:\u001b[0m\u001b[0;34m\u001b[0m\u001b[0m\n\u001b[1;32m    274\u001b[0m             \u001b[0;32mtry\u001b[0m\u001b[0;34m:\u001b[0m\u001b[0;34m\u001b[0m\u001b[0m\n",
      "\u001b[0;32m/usr/local/lib/python3.6/dist-packages/serial/serialposix.py\u001b[0m in \u001b[0;36m_reconfigure_port\u001b[0;34m(self, force_update)\u001b[0m\n\u001b[1;32m    324\u001b[0m             \u001b[0miflag\u001b[0m\u001b[0;34m,\u001b[0m \u001b[0moflag\u001b[0m\u001b[0;34m,\u001b[0m \u001b[0mcflag\u001b[0m\u001b[0;34m,\u001b[0m \u001b[0mlflag\u001b[0m\u001b[0;34m,\u001b[0m \u001b[0mispeed\u001b[0m\u001b[0;34m,\u001b[0m \u001b[0mospeed\u001b[0m\u001b[0;34m,\u001b[0m \u001b[0mcc\u001b[0m \u001b[0;34m=\u001b[0m \u001b[0morig_attr\u001b[0m\u001b[0;34m\u001b[0m\u001b[0m\n\u001b[1;32m    325\u001b[0m         \u001b[0;32mexcept\u001b[0m \u001b[0mtermios\u001b[0m\u001b[0;34m.\u001b[0m\u001b[0merror\u001b[0m \u001b[0;32mas\u001b[0m \u001b[0mmsg\u001b[0m\u001b[0;34m:\u001b[0m      \u001b[0;31m# if a port is nonexistent but has a /dev file, it'll fail here\u001b[0m\u001b[0;34m\u001b[0m\u001b[0m\n\u001b[0;32m--> 326\u001b[0;31m             \u001b[0;32mraise\u001b[0m \u001b[0mSerialException\u001b[0m\u001b[0;34m(\u001b[0m\u001b[0;34m\"Could not configure port: {}\"\u001b[0m\u001b[0;34m.\u001b[0m\u001b[0mformat\u001b[0m\u001b[0;34m(\u001b[0m\u001b[0mmsg\u001b[0m\u001b[0;34m)\u001b[0m\u001b[0;34m)\u001b[0m\u001b[0;34m\u001b[0m\u001b[0m\n\u001b[0m\u001b[1;32m    327\u001b[0m         \u001b[0;31m# set up raw mode / no echo / binary\u001b[0m\u001b[0;34m\u001b[0m\u001b[0;34m\u001b[0m\u001b[0m\n\u001b[1;32m    328\u001b[0m         \u001b[0mcflag\u001b[0m \u001b[0;34m|=\u001b[0m \u001b[0;34m(\u001b[0m\u001b[0mtermios\u001b[0m\u001b[0;34m.\u001b[0m\u001b[0mCLOCAL\u001b[0m \u001b[0;34m|\u001b[0m \u001b[0mtermios\u001b[0m\u001b[0;34m.\u001b[0m\u001b[0mCREAD\u001b[0m\u001b[0;34m)\u001b[0m\u001b[0;34m\u001b[0m\u001b[0m\n",
      "\u001b[0;31mSerialException\u001b[0m: Could not configure port: (5, 'Input/output error')"
     ]
    }
   ],
   "source": [
    "run_action('turn003L')\n",
    "wait_req()\n",
    "run_action('fastForward04')\n",
    "wait_req()\n",
    "run_action('turn003L')\n",
    "wait_req()\n",
    "run_action('fastForward04')\n",
    "wait_req()\n",
    "run_action('turn003L')\n",
    "wait_req()\n",
    "run_action('turn003L')\n",
    "wait_req()\n",
    "\n",
    "\n",
    "# run_action('UpBridge')\n",
    "# wait_req()\n",
    "# run_action('UpBridge')\n",
    "# wait_req()\n",
    "# run_action('UpBridge')\n",
    "# wait_req()\n",
    "\n",
    "\n",
    "# run_action('Forwalk02')\n",
    "# wait_req()\n",
    "# run_action('Forwalk02')\n",
    "# wait_req()\n",
    "run_action('Forwalk02')\n",
    "wait_req()\n",
    "run_action('turn003L')\n",
    "wait_req()\n",
    "# run_action('turn003L')\n",
    "# wait_req()\n",
    "# run_action('turn003L')\n",
    "# wait_req()\n",
    "\n",
    "\n",
    "# run_action('fastForward04')\n",
    "# wait_req()\n",
    "# run_action('turn003L')\n",
    "# wait_req()\n",
    "# run_action('fastForward04')\n",
    "# wait_req()\n",
    "# run_action('turn003L')\n",
    "# wait_req()\n",
    "# run_action('fastForward04')\n",
    "# wait_req()\n",
    "# run_action('turn003L')\n",
    "# wait_req()"
   ]
  },
  {
   "cell_type": "code",
   "execution_count": null,
   "metadata": {},
   "outputs": [],
   "source": []
  }
 ],
 "metadata": {
  "kernelspec": {
   "display_name": "Python 3",
   "language": "python",
   "name": "python3"
  },
  "language_info": {
   "codemirror_mode": {
    "name": "ipython",
    "version": 3
   },
   "file_extension": ".py",
   "mimetype": "text/x-python",
   "name": "python",
   "nbconvert_exporter": "python",
   "pygments_lexer": "ipython3",
   "version": "3.6.5"
  }
 },
 "nbformat": 4,
 "nbformat_minor": 2
}
